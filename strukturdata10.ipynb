{
  "nbformat": 4,
  "nbformat_minor": 0,
  "metadata": {
    "colab": {
      "provenance": [],
      "authorship_tag": "ABX9TyPVOtivVbOaNddXsP8Jyaxt",
      "include_colab_link": true
    },
    "kernelspec": {
      "name": "python3",
      "display_name": "Python 3"
    },
    "language_info": {
      "name": "python"
    }
  },
  "cells": [
    {
      "cell_type": "markdown",
      "metadata": {
        "id": "view-in-github",
        "colab_type": "text"
      },
      "source": [
        "<a href=\"https://colab.research.google.com/github/LikaAlfi/strukdat-latihan10/blob/main/strukturdata10.ipynb\" target=\"_parent\"><img src=\"https://colab.research.google.com/assets/colab-badge.svg\" alt=\"Open In Colab\"/></a>"
      ]
    },
    {
      "cell_type": "code",
      "source": [
        "!pip install networkx matplotlib"
      ],
      "metadata": {
        "id": "fHrDuvTVGnpW"
      },
      "execution_count": null,
      "outputs": []
    },
    {
      "cell_type": "code",
      "source": [
        "import heapq\n",
        "import networkx as nx\n",
        "import matplotlib.pyplot as plt\n",
        "\n",
        "def dijkstra_with_paths(graph, start):\n",
        "  distances = {node: float('inf') for node in graph}\n",
        "  distances[start] = 0\n",
        "  previous = {node: None for node in graph}\n",
        "  queue = [(0, start)]\n",
        "\n",
        "  while queue:\n",
        "    current_distance, current_node = heapq.heappop(queue)\n",
        "\n",
        "    for neighbor, weight in graph [current_node].items() :\n",
        "      distance = current_distance + weight\n",
        "      if distance < distances [neighbor]:\n",
        "        distances [neighbor] = distance\n",
        "        previous[neighbor] = current_node\n",
        "        heapq.heappush(queue, (distance, neighbor))\n",
        "\n",
        "  return distances, previous"
      ],
      "metadata": {
        "id": "UYdbk_O-LXLB"
      },
      "execution_count": null,
      "outputs": []
    },
    {
      "cell_type": "code",
      "source": [
        "def get_path(previous, target):\n",
        "  path = []\n",
        "  while target is not None:\n",
        "    path.insert(0, target)\n",
        "    target = previous [target]\n",
        "  return path"
      ],
      "metadata": {
        "id": "q3ReEYVfNcWz"
      },
      "execution_count": null,
      "outputs": []
    },
    {
      "cell_type": "code",
      "source": [
        "def visualize_graph (graph, path=None):\n",
        "  G = nx.DiGraph ()\n",
        "\n",
        "  for node in graph:\n",
        "    for neighbor, weight in graph[node].items():\n",
        "      G.add_edge (node, neighbor, weight=weight)\n",
        "\n",
        "  pos = nx.spring_layout (G)\n",
        "  edge_labels = nx.get_edge_attributes (G, 'weight')\n",
        "\n",
        "  plt.figure(figsize=(8, 6))\n",
        "  nx.draw (G, pos, with_labels=True, node_color='lightblue', node_size=2000,font_weight='bold', arrows=True)\n",
        "  nx.draw_networkx_edge_labels(G, pos, edge_labels=edge_labels)\n",
        "\n",
        "  # Garis tebal untuk jalur terpendek\n",
        "  if path and len (path) > 1:\n",
        "    path_edges = list(zip(path, path[1:]))\n",
        "    nx.draw_networkx_edges(G, pos, edgelist=path_edges, edge_color='red', width=3)\n",
        "\n",
        "\n",
        "  plt.title(\"Visualisasi Graf dan Jalur Terpendek\")\n",
        "  plt.axis('off')\n",
        "  plt.show()"
      ],
      "metadata": {
        "id": "v1cmPK_mN5Qm"
      },
      "execution_count": null,
      "outputs": []
    },
    {
      "cell_type": "code",
      "source": [
        "# Definisi graf\n",
        "graph = {\n",
        "  'A': {'B': 4, 'C': 2},\n",
        "  'B': {'C': 1, 'D': 5},\n",
        "  'C': {'D': 8, 'E': 10},\n",
        "  'D': {'E': 2, 'Z': 6},\n",
        "  'E': {'Z': 3},\n",
        "  'Z': {}\n",
        "}\n",
        "#Jalankan Dijkstra\n",
        "start_node = 'A'\n",
        "end_node = 'Z'\n",
        "distances, previous = dijkstra_with_paths(graph, start_node)\n",
        "\n",
        "# Rekonstruksi jalur\n",
        "shortest_path = get_path(previous, end_node)\n",
        "print (f\"Jarak dari {start_node} ke {end_node}: {distances[end_node] }\")\n",
        "print (f\"Jalur: {' → '.join(shortest_path) }\")\n",
        "# Visualisasi\n",
        "visualize_graph(graph, path=shortest_path)"
      ],
      "metadata": {
        "id": "ZeDP5U-qP0Df"
      },
      "execution_count": null,
      "outputs": []
    }
  ]
}